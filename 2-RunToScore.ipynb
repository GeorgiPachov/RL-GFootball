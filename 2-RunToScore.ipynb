{
 "cells": [
  {
   "cell_type": "markdown",
   "id": "610f9764-5d1e-4f80-8902-b383aa67c0db",
   "metadata": {},
   "source": [
    "## Setup"
   ]
  },
  {
   "cell_type": "code",
   "execution_count": null,
   "id": "a4d1eb07-904f-4216-bab3-efeea53da3ea",
   "metadata": {},
   "outputs": [],
   "source": [
    "! brew install git python3 cmake sdl2 sdl2_image sdl2_ttf sdl2_gfx boost boost-python3\n",
    "! python3 -m pip install --upgrade pip setuptools psutil wheel"
   ]
  },
  {
   "cell_type": "code",
   "execution_count": null,
   "id": "dd1339f7-ad25-42c0-8321-156fa439cc01",
   "metadata": {},
   "outputs": [],
   "source": [
    "! pip install gfootball "
   ]
  },
  {
   "cell_type": "code",
   "execution_count": null,
   "id": "9ec1b2ba-fe09-4890-b460-fe10573ca7d1",
   "metadata": {},
   "outputs": [],
   "source": [
    "! pip install setuptools==65.5.0\n",
    "! git clone https://github.com/google-research/football.git\n",
    "! cd football && pip install . "
   ]
  },
  {
   "cell_type": "markdown",
   "id": "96cb6696-a2ba-4c05-b837-03542bf537ce",
   "metadata": {},
   "source": [
    "### Test game play"
   ]
  },
  {
   "cell_type": "code",
   "execution_count": 127,
   "id": "9949d48d-0d45-4b59-bf29-dd1da18b82b6",
   "metadata": {},
   "outputs": [
    {
     "name": "stdout",
     "output_type": "stream",
     "text": [
      "objc[81026]: Class SDLApplication is implemented in both /opt/homebrew/Cellar/sdl2/2.26.3/lib/libSDL2-2.0.0.dylib (0x106368800) and /Users/georgipachov/opt/miniconda3/envs/rl/lib/python3.10/site-packages/pygame/.dylibs/libSDL2-2.0.0.dylib (0x1321287e8). One of the two will be used. Which one is undefined.\n",
      "objc[81026]: Class SDLAppDelegate is implemented in both /opt/homebrew/Cellar/sdl2/2.26.3/lib/libSDL2-2.0.0.dylib (0x106368850) and /Users/georgipachov/opt/miniconda3/envs/rl/lib/python3.10/site-packages/pygame/.dylibs/libSDL2-2.0.0.dylib (0x132128838). One of the two will be used. Which one is undefined.\n",
      "objc[81026]: Class SDLTranslatorResponder is implemented in both /opt/homebrew/Cellar/sdl2/2.26.3/lib/libSDL2-2.0.0.dylib (0x1063688c8) and /Users/georgipachov/opt/miniconda3/envs/rl/lib/python3.10/site-packages/pygame/.dylibs/libSDL2-2.0.0.dylib (0x1321288b0). One of the two will be used. Which one is undefined.\n",
      "objc[81026]: Class SDLMessageBoxPresenter is implemented in both /opt/homebrew/Cellar/sdl2/2.26.3/lib/libSDL2-2.0.0.dylib (0x1063688f0) and /Users/georgipachov/opt/miniconda3/envs/rl/lib/python3.10/site-packages/pygame/.dylibs/libSDL2-2.0.0.dylib (0x1321288d8). One of the two will be used. Which one is undefined.\n",
      "objc[81026]: Class SDL_cocoametalview is implemented in both /opt/homebrew/Cellar/sdl2/2.26.3/lib/libSDL2-2.0.0.dylib (0x106368940) and /Users/georgipachov/opt/miniconda3/envs/rl/lib/python3.10/site-packages/pygame/.dylibs/libSDL2-2.0.0.dylib (0x132128928). One of the two will be used. Which one is undefined.\n",
      "objc[81026]: Class SDLOpenGLContext is implemented in both /opt/homebrew/Cellar/sdl2/2.26.3/lib/libSDL2-2.0.0.dylib (0x106368990) and /Users/georgipachov/opt/miniconda3/envs/rl/lib/python3.10/site-packages/pygame/.dylibs/libSDL2-2.0.0.dylib (0x132128978). One of the two will be used. Which one is undefined.\n",
      "objc[81026]: Class SDLWindow is implemented in both /opt/homebrew/Cellar/sdl2/2.26.3/lib/libSDL2-2.0.0.dylib (0x106368b20) and /Users/georgipachov/opt/miniconda3/envs/rl/lib/python3.10/site-packages/pygame/.dylibs/libSDL2-2.0.0.dylib (0x1321289c8). One of the two will be used. Which one is undefined.\n",
      "objc[81026]: Class Cocoa_WindowListener is implemented in both /opt/homebrew/Cellar/sdl2/2.26.3/lib/libSDL2-2.0.0.dylib (0x106368b48) and /Users/georgipachov/opt/miniconda3/envs/rl/lib/python3.10/site-packages/pygame/.dylibs/libSDL2-2.0.0.dylib (0x1321289f0). One of the two will be used. Which one is undefined.\n",
      "objc[81026]: Class SDLView is implemented in both /opt/homebrew/Cellar/sdl2/2.26.3/lib/libSDL2-2.0.0.dylib (0x106368bc0) and /Users/georgipachov/opt/miniconda3/envs/rl/lib/python3.10/site-packages/pygame/.dylibs/libSDL2-2.0.0.dylib (0x132128a68). One of the two will be used. Which one is undefined.\n",
      "objc[81026]: Class METAL_RenderData is implemented in both /opt/homebrew/Cellar/sdl2/2.26.3/lib/libSDL2-2.0.0.dylib (0x106368c38) and /Users/georgipachov/opt/miniconda3/envs/rl/lib/python3.10/site-packages/pygame/.dylibs/libSDL2-2.0.0.dylib (0x132128ab8). One of the two will be used. Which one is undefined.\n",
      "objc[81026]: Class METAL_TextureData is implemented in both /opt/homebrew/Cellar/sdl2/2.26.3/lib/libSDL2-2.0.0.dylib (0x106368c88) and /Users/georgipachov/opt/miniconda3/envs/rl/lib/python3.10/site-packages/pygame/.dylibs/libSDL2-2.0.0.dylib (0x132128b08). One of the two will be used. Which one is undefined.\n",
      "objc[81026]: Class SDL_RumbleMotor is implemented in both /opt/homebrew/Cellar/sdl2/2.26.3/lib/libSDL2-2.0.0.dylib (0x106368cb0) and /Users/georgipachov/opt/miniconda3/envs/rl/lib/python3.10/site-packages/pygame/.dylibs/libSDL2-2.0.0.dylib (0x132128b58). One of the two will be used. Which one is undefined.\n",
      "objc[81026]: Class SDL_RumbleContext is implemented in both /opt/homebrew/Cellar/sdl2/2.26.3/lib/libSDL2-2.0.0.dylib (0x106368d00) and /Users/georgipachov/opt/miniconda3/envs/rl/lib/python3.10/site-packages/pygame/.dylibs/libSDL2-2.0.0.dylib (0x132128ba8). One of the two will be used. Which one is undefined.\n",
      "pygame 2.2.0 (SDL 2.0.22, Python 3.10.6)\n",
      "Hello from the pygame community. https://www.pygame.org/contribute.html\n",
      "UNSUPPORTED (log once): POSSIBLE ISSUE: unit 1 GLD_TEXTURE_INDEX_2D is unloadable and bound to sampler type (Float) - using zero texture because texture unloadable\n",
      "^C\n",
      "W0307 11:21:45.448897 4385031552 play_game.py:65] Game stopped, writing dump...\n",
      "I0307 11:21:45.453339 4385031552 observation_processor.py:361] Dump written to /var/folders/4x/vb5tl80s45v2f_k7_zb004bc0000gn/T/dumps/shutdown_20230307-112145449051.dump\n",
      "I0307 11:21:45.572648 4385031552 observation_processor.py:361] Dump written to /var/folders/4x/vb5tl80s45v2f_k7_zb004bc0000gn/T/dumps/episode_done_20230307-112130066776.dump\n"
     ]
    }
   ],
   "source": [
    "! python -m gfootball.play_game --action_set=full"
   ]
  },
  {
   "cell_type": "markdown",
   "id": "5e868fc7-3c4f-4e4c-8013-526abcd35326",
   "metadata": {},
   "source": [
    "### Learning environment "
   ]
  },
  {
   "cell_type": "code",
   "execution_count": 1,
   "id": "71616c53-f3a5-4dfe-9505-04ff58a24c25",
   "metadata": {},
   "outputs": [],
   "source": [
    "import torch\n",
    "import pandas as pd\n",
    "import torch.nn as nn\n",
    "import torch.nn.functional as F\n",
    "import torch.optim as optim\n",
    "from torch.distributions import Categorical\n",
    "import gym\n",
    "import numpy as np\n",
    "import os\n",
    "from collections import namedtuple\n",
    "import gfootball\n",
    "import gfootball.env as football_env\n",
    "from gfootball.env.wrappers import Simple115StateWrapper\n",
    "import collections\n",
    "\n",
    "SavedAction = namedtuple('SavedAction', ['log_prob', 'value'])\n",
    "\n",
    "class ShapingRewardWrapper(gym.Wrapper):\n",
    "        def __init__(self, env):\n",
    "            super().__init__(env)\n",
    "            self.observation_space = collections.namedtuple('ObservationSpace', 'shape')\n",
    "            self.observation_space.shape=(115,)\n",
    "            self._env = env\n",
    "\n",
    "            self._bo = 0.02\n",
    "            \n",
    "            # attack vs defense coefficients\n",
    "            self._dist_mg = 0.01\n",
    "            self._dist_og = 0.01\n",
    "            \n",
    "            self._opdist = 0.1\n",
    "            self._goal_bonus = 100\n",
    "\n",
    "        \n",
    "        def step(self, action):\n",
    "            obs, reward, done, info = self._env.step(action)\n",
    "            reward *= self._goal_bonus\n",
    "            obs = obs[0]\n",
    "\n",
    "            if obs['ball_owned_team'] == 0:\n",
    "                reward += self._bo\n",
    "            elif obs['ball_owned_team'] == 1:\n",
    "                reward -= self._bo\n",
    "\n",
    "            bx, by, bz = obs['ball']\n",
    "            mgx, mgy = -1, 0\n",
    "            ogx, ogy = 1, 0\n",
    "            \n",
    "            dist_from_my_goal = (np.sqrt((bx-mgx)**2 + (by-mgy)**2))\n",
    "            dist_from_opponent_goal = (np.sqrt((bx-ogx)**2 + (by-ogy)**2))\n",
    "            \n",
    "            reward += self._dist_mg * dist_from_my_goal\n",
    "            reward += self._dist_og * dist_from_opponent_goal\n",
    "\n",
    "            # distance of controlling player from ball \n",
    "            mx, my = obs['left_team'][obs['active']]\n",
    "            if obs['ball_owned_team'] != 0:\n",
    "                reward -= self._opdist * (np.sqrt((bx-mx)**2 + (by-my)**2))\n",
    "                \n",
    "            return obs, reward, done, info\n",
    "\n",
    "        \n",
    "def obs_transform(obs):\n",
    "    return Simple115StateWrapper.convert_observation(obs, True)\n",
    "\n",
    "\n",
    "def create_env(render=False, \n",
    "               env_name='academy_empty_goal', \n",
    "               wrapper_init=None,\n",
    "               record=True,\n",
    "               **params):\n",
    "    if env_name == 'cart_pole':\n",
    "        env = gym.make('CartPole-v0')\n",
    "    else:\n",
    "        env_names = ['1_vs_1_easy', '5_vs_5', 'academy_run_to_score', 'academy_empty_goal_close', 'academy_empty_goal']\n",
    "        os.environ['MESA_GL_VERSION_OVERRIDE'] = '3.3'\n",
    "        env = football_env.create_environment(env_name=env_name, \n",
    "                                              stacked=False, \n",
    "                                              representation='raw',\n",
    "                                              rewards='scoring,checkpoints',\n",
    "                                              logdir='replays', \n",
    "                                              write_goal_dumps=record, \n",
    "                                              write_full_episode_dumps=record, \n",
    "                                              write_video=record,\n",
    "                                              render=render)\n",
    "        if wrapper_init is not None:\n",
    "            return wrapper_init.__call__(env)\n",
    "        else:\n",
    "            return env\n",
    "\n",
    "\n",
    "class Policy(nn.Module):\n",
    "    \"\"\"\n",
    "    implements both actor and critic in one model\n",
    "    \"\"\"\n",
    "    def __init__(self):\n",
    "        super(Policy, self).__init__()\n",
    "        self.affine1 = nn.Linear(115, 128)\n",
    "\n",
    "        # actor's layer\n",
    "        self.action_head = nn.Linear(128, 19)\n",
    "\n",
    "        # critic's layer\n",
    "        self.value_head = nn.Linear(128, 1)\n",
    "\n",
    "        # action & reward buffer\n",
    "        self.saved_actions = []\n",
    "        self.rewards = []\n",
    "\n",
    "    def forward(self, x):\n",
    "        \"\"\"\n",
    "        forward of both actor and critic\n",
    "        \"\"\"\n",
    "        x = F.relu(self.affine1(x))\n",
    "\n",
    "        # actor: choses action to take from state s_t \n",
    "        # by returning probability of each action\n",
    "        action_prob = F.softmax(self.action_head(x), dim=-1)\n",
    "\n",
    "        # critic: evaluates being in the state s_t\n",
    "        state_values = self.value_head(x)\n",
    "\n",
    "        # return values for both actor and critic as a tuple of 2 values:\n",
    "        # 1. a list with the probability of each action over the action space\n",
    "        # 2. the value from state s_t \n",
    "        return action_prob, state_values\n",
    "\n",
    "\n",
    "def select_action(model, state):\n",
    "    state = torch.from_numpy(state).float()\n",
    "    probs, state_value = model(state)\n",
    "\n",
    "    # create a categorical distribution over the list of probabilities of actions\n",
    "    m = Categorical(probs)\n",
    "\n",
    "    # and sample an action using the distribution\n",
    "    action = m.sample()\n",
    "\n",
    "    # save to action buffer\n",
    "    model.saved_actions.append(SavedAction(m.log_prob(action), state_value))\n",
    "\n",
    "    return action.item()\n",
    "\n",
    "\n",
    "def finish_episode(model, optimizer, gamma, eps=1e-8):\n",
    "    \"\"\"\n",
    "    Training code. Calculates actor and critic loss and performs backprop.\n",
    "    \"\"\"\n",
    "    R = 0\n",
    "    saved_actions = model.saved_actions\n",
    "    policy_losses = [] # list to save actor (policy) loss\n",
    "    value_losses = [] # list to save critic (value) loss\n",
    "    returns = [] # list to save the true values\n",
    "\n",
    "    # calculate the true value using rewards returned from the environment\n",
    "    for r in model.rewards[::-1]:\n",
    "        # calculate the discounted value\n",
    "        R = r + gamma * R\n",
    "        returns.insert(0, R)\n",
    "\n",
    "    returns = torch.tensor(returns)\n",
    "    returns = (returns - returns.mean()) / (returns.std() + eps)\n",
    "\n",
    "    for (log_prob, value), R in zip(saved_actions, returns):\n",
    "        advantage = R - value.item()\n",
    "\n",
    "        # calculate actor (policy) loss \n",
    "        policy_losses.append(-log_prob * advantage)\n",
    "\n",
    "        # calculate critic (value) loss using L1 smooth loss\n",
    "        value_losses.append(F.smooth_l1_loss(value, torch.tensor([R])))\n",
    "\n",
    "    # reset gradients\n",
    "    optimizer.zero_grad()\n",
    "\n",
    "    # sum up all the values of policy_losses and value_losses\n",
    "    loss = torch.stack(policy_losses).sum() + torch.stack(value_losses).sum()\n",
    "\n",
    "    # perform backprop\n",
    "    loss.backward()\n",
    "    optimizer.step()\n",
    "\n",
    "    # reset rewards and action buffer\n",
    "    del model.rewards[:]\n",
    "    del model.saved_actions[:]\n"
   ]
  },
  {
   "cell_type": "markdown",
   "id": "c7f1b930-66e4-46c5-95b6-3b935df05f38",
   "metadata": {},
   "source": [
    "### Learning objective: Run to score"
   ]
  },
  {
   "cell_type": "code",
   "execution_count": 3,
   "id": "3fde2304-0602-49e5-83c1-519412e1e592",
   "metadata": {},
   "outputs": [],
   "source": [
    "class DistanceFromOpponentGoalReward(gym.Wrapper):\n",
    "        def __init__(self, env):\n",
    "            super().__init__(env)\n",
    "            self._env = env\n",
    "        \n",
    "        def step(self, action):\n",
    "            obs, reward, done, info = self._env.step(action)\n",
    "            reward = 0\n",
    "            \n",
    "            obs = obs[0]\n",
    "\n",
    "            bx, by, bz = obs['ball']\n",
    "            ogx, ogy = -1, 0\n",
    "            \n",
    "            dist_from_opponent_goal = (np.sqrt((bx-ogx)**2 + (by-ogy)**2))\n",
    "            reward -= dist_from_opponent_goal\n",
    "            \n",
    "            return obs, reward, done, info\n",
    "        \n",
    "class DistanceFromOpponentGoalRewardFixed(gym.Wrapper):\n",
    "        def __init__(self, env):\n",
    "            super().__init__(env)\n",
    "            self._env = env\n",
    "        \n",
    "        def step(self, action):\n",
    "            obs, reward, done, info = self._env.step(action)\n",
    "            reward = 0\n",
    "            \n",
    "            obs = obs[0]\n",
    "\n",
    "            bx, by, bz = obs['ball']\n",
    "            ogx, ogy = 1, 0\n",
    "            \n",
    "            dist_from_opponent_goal = (np.sqrt((bx-ogx)**2 + (by-ogy)**2))\n",
    "            reward -= dist_from_opponent_goal\n",
    "            \n",
    "            return obs, reward, done, info"
   ]
  },
  {
   "cell_type": "code",
   "execution_count": 36,
   "id": "f2f3ff58-c309-4dc0-b274-8de57746a440",
   "metadata": {
    "tags": []
   },
   "outputs": [],
   "source": [
    "def run_agent(exp_name='exp1',\n",
    "              model=None,\n",
    "              train=True,\n",
    "              render=False,\n",
    "              record=False, \n",
    "              num_episodes=2000,\n",
    "              num_steps=500,\n",
    "              task='academy_empty_goal_close',\n",
    "              wrapper_init=DistanceFromOpponentGoalReward,\n",
    "              policy_fn=Policy,\n",
    "              solved_threshold=-25,\n",
    "              log_every=50,\n",
    "              learning_rate=1e-2,\n",
    "              gamma=0.99,\n",
    "              last_n=5,\n",
    "              seed=0,\n",
    "              checkpoint=True,\n",
    "              checkpoint_dir='checkpoints'\n",
    "             ):\n",
    "    # set seed first\n",
    "    import random\n",
    "    random.seed(seed)\n",
    "    np.random.seed(seed)\n",
    "    torch.manual_seed(seed)\n",
    "    \n",
    "    if not os.path.exists(checkpoint_dir):\n",
    "        os.mkdir(checkpoint_dir)\n",
    "    \n",
    "    try: \n",
    "        max_reward = -1_000_000\n",
    "        running_reward = 0\n",
    "        episode_rewards = []\n",
    "        env = create_env(render=render, \n",
    "                         env_name=task,\n",
    "                         record=record,\n",
    "                         wrapper_init=wrapper_init)\n",
    "        if model is None:\n",
    "            model = policy_fn()\n",
    "            \n",
    "        optimizer = optim.Adam(model.parameters(), lr=learning_rate)\n",
    "        # eps = np.finfo(np.float32).eps.item()\n",
    "        eps = 1e-8\n",
    "\n",
    "        # run inifinitely many episodes\n",
    "        for i_episode in range(num_episodes):\n",
    "            # reset environment and episode reward\n",
    "            state = env.reset()\n",
    "            state = obs_transform(state)\n",
    "            ep_reward = 0\n",
    "\n",
    "            # for each episode, only run 9999 steps so that we don't \n",
    "            # infinite loop while learning\n",
    "            for t in range(1, num_steps):\n",
    "\n",
    "                # select action from policy\n",
    "                action = select_action(model, state)\n",
    "\n",
    "                # take the action\n",
    "                state, reward, done, _ = env.step(action)\n",
    "                state = obs_transform([state])\n",
    "\n",
    "                model.rewards.append(reward)\n",
    "                ep_reward += reward\n",
    "                if done:\n",
    "                    break\n",
    "\n",
    "                    \n",
    "            # log results\n",
    "            episode_rewards.append(ep_reward)\n",
    "            \n",
    "            # update cumulative reward\n",
    "            running_reward = np.mean(episode_rewards[-last_n:])\n",
    "            \n",
    "            if i_episode % log_every == 0:\n",
    "                print(f'Episode: {i_episode}\\tLast reward: {ep_reward:.2f} \\t Last {last_n} episodes average reward: {running_reward}')\n",
    "\n",
    "            if train:\n",
    "                # save checkpoint\n",
    "                if checkpoint:\n",
    "                    if running_reward > max_reward:\n",
    "                        torch.save(model, f'{checkpoint_dir}/{running_reward}_{task}_{exp_name}_checkpoint_{i_episode}.h5')\n",
    "                        max_reward = running_reward\n",
    "\n",
    "                if i_episode > last_n and running_reward > solved_threshold:\n",
    "                    torch.save(model, f'{task}_{exp_name}.h5')\n",
    "                    print('Solved!')\n",
    "                    return model, episode_rewards\n",
    "                \n",
    "                else:\n",
    "                    # perform backprop\n",
    "                    finish_episode(model, optimizer, gamma)\n",
    "                \n",
    "        return model, episode_rewards\n",
    "    finally: \n",
    "        env.close()\n",
    "        \n",
    "def load_best_agent(checkpoints_dir='checkpoints'):\n",
    "    # Load best agent\n",
    "    checkpoints = os.listdir(checkpoints_dir)\n",
    "    all_checkpoints = {int(x[:x.index('.')]):x for x in checkpoints}\n",
    "    max_reward = max(all_checkpoints.keys())\n",
    "    best = all_checkpoints[max_reward]\n",
    "    print('Loading checkpoint: ', best)\n",
    "    model_loaded = torch.load(os.path.join(checkpoints_dir, best))\n",
    "    return model_loaded\n",
    "\n",
    "def load_agent(name, checkpoints_dir='checkpoints'):\n",
    "    # Load manually\n",
    "    print('Loading checkpoint: ', name)\n",
    "    model_loaded = torch.load(os.path.join(checkpoints_dir, name))\n",
    "    return model_loaded"
   ]
  },
  {
   "cell_type": "markdown",
   "id": "cc93393a-c714-4f03-a639-703650d7bb09",
   "metadata": {},
   "source": [
    "### Run to score"
   ]
  },
  {
   "cell_type": "code",
   "execution_count": 6,
   "id": "4d4ae9f9-c586-4ac7-ab06-1927be76b1d4",
   "metadata": {},
   "outputs": [
    {
     "name": "stdout",
     "output_type": "stream",
     "text": [
      "Episode: 0\tLast reward: -77.36 \t Last 10 episodes average reward: -77.36044565496381\n"
     ]
    },
    {
     "name": "stderr",
     "output_type": "stream",
     "text": [
      "/var/folders/4x/vb5tl80s45v2f_k7_zb004bc0000gn/T/ipykernel_44082/1773448652.py:171: UserWarning: Using a target size (torch.Size([1])) that is different to the input size (torch.Size([1, 1])). This will likely lead to incorrect results due to broadcasting. Please ensure they have the same size.\n",
      "  value_losses.append(F.smooth_l1_loss(value, torch.tensor([R])))\n"
     ]
    },
    {
     "name": "stdout",
     "output_type": "stream",
     "text": [
      "Episode: 50\tLast reward: -44.93 \t Last 10 episodes average reward: -80.84794288133222\n",
      "Episode: 100\tLast reward: -245.21 \t Last 10 episodes average reward: -286.2158312689962\n",
      "Episode: 150\tLast reward: -47.01 \t Last 10 episodes average reward: -71.11419275105308\n",
      "Episode: 200\tLast reward: -22.29 \t Last 10 episodes average reward: -34.30823141641694\n",
      "Episode: 250\tLast reward: -29.39 \t Last 10 episodes average reward: -25.737254059917355\n",
      "Episode: 300\tLast reward: -26.95 \t Last 10 episodes average reward: -25.436855013673284\n",
      "Episode: 350\tLast reward: -30.15 \t Last 10 episodes average reward: -26.245044847117015\n",
      "Episode: 400\tLast reward: -25.35 \t Last 10 episodes average reward: -24.843476971966872\n",
      "Episode: 450\tLast reward: -29.40 \t Last 10 episodes average reward: -26.073225108068936\n",
      "Episode: 500\tLast reward: -26.13 \t Last 10 episodes average reward: -26.64511023252849\n",
      "Episode: 550\tLast reward: -23.57 \t Last 10 episodes average reward: -24.43374184683251\n",
      "Episode: 600\tLast reward: -25.33 \t Last 10 episodes average reward: -27.02303296925868\n",
      "Episode: 650\tLast reward: -25.01 \t Last 10 episodes average reward: -24.50997971815561\n",
      "Episode: 700\tLast reward: -22.19 \t Last 10 episodes average reward: -25.47564522853053\n",
      "Episode: 750\tLast reward: -27.48 \t Last 10 episodes average reward: -26.164095062017406\n",
      "Episode: 800\tLast reward: -23.88 \t Last 10 episodes average reward: -26.268474982231556\n",
      "Episode: 850\tLast reward: -19.48 \t Last 10 episodes average reward: -26.6513536161792\n",
      "Episode: 900\tLast reward: -26.46 \t Last 10 episodes average reward: -23.64666871991621\n",
      "Episode: 950\tLast reward: -28.53 \t Last 10 episodes average reward: -27.467874455262482\n",
      "Episode: 1000\tLast reward: -23.27 \t Last 10 episodes average reward: -25.405855195239766\n",
      "Episode: 1050\tLast reward: -27.73 \t Last 10 episodes average reward: -26.027734079642464\n",
      "Episode: 1100\tLast reward: -29.00 \t Last 10 episodes average reward: -26.042787292175625\n",
      "Episode: 1150\tLast reward: -30.01 \t Last 10 episodes average reward: -25.934494116074575\n",
      "Episode: 1200\tLast reward: -23.51 \t Last 10 episodes average reward: -25.24731945158701\n",
      "Episode: 1250\tLast reward: -27.34 \t Last 10 episodes average reward: -25.7004563133474\n",
      "Episode: 1300\tLast reward: -24.81 \t Last 10 episodes average reward: -26.4933030408345\n",
      "Episode: 1350\tLast reward: -23.78 \t Last 10 episodes average reward: -23.944549154326655\n",
      "Episode: 1400\tLast reward: -24.87 \t Last 10 episodes average reward: -25.992330056069296\n",
      "Episode: 1450\tLast reward: -28.50 \t Last 10 episodes average reward: -25.19059481326464\n",
      "Episode: 1500\tLast reward: -25.88 \t Last 10 episodes average reward: -27.114650905661442\n",
      "Episode: 1550\tLast reward: -29.85 \t Last 10 episodes average reward: -28.232167993155496\n",
      "Episode: 1600\tLast reward: -26.47 \t Last 10 episodes average reward: -26.623758102519815\n",
      "Episode: 1650\tLast reward: -28.98 \t Last 10 episodes average reward: -26.246974134860842\n",
      "Episode: 1700\tLast reward: -25.39 \t Last 10 episodes average reward: -25.313530845503045\n",
      "Episode: 1750\tLast reward: -21.91 \t Last 10 episodes average reward: -24.885592333801718\n",
      "Episode: 1800\tLast reward: -29.91 \t Last 10 episodes average reward: -26.525080658539753\n",
      "Episode: 1850\tLast reward: -25.94 \t Last 10 episodes average reward: -25.125950835249583\n",
      "Episode: 1900\tLast reward: -26.52 \t Last 10 episodes average reward: -25.27849777995651\n",
      "Episode: 1950\tLast reward: -22.10 \t Last 10 episodes average reward: -26.105892614287114\n"
     ]
    }
   ],
   "source": [
    "model, episode_rewards = run_agent(train=True, \n",
    "                                   render=False, \n",
    "                                   record=False, \n",
    "                                   log_every=50, \n",
    "                                   seed=42, \n",
    "                                   last_n=10, \n",
    "                                   solved_threshold=-10, \n",
    "                                   task='academy_run_to_score', \n",
    "                                   learning_rate=5e-1,\n",
    "                                   wrapper_init=DistanceFromOpponentGoalRewardFixed)"
   ]
  },
  {
   "cell_type": "code",
   "execution_count": 7,
   "id": "835de4f1-dea3-4967-a4db-45ad18db15a8",
   "metadata": {},
   "outputs": [
    {
     "data": {
      "text/plain": [
       "<AxesSubplot: title={'center': 'Mean reward for last 20 episodes'}, xlabel='Еpisode', ylabel='Reward'>"
      ]
     },
     "execution_count": 7,
     "metadata": {},
     "output_type": "execute_result"
    },
    {
     "data": {
      "image/png": "[encoded data removed]",
      "text/plain": [
       "<Figure size 640x480 with 1 Axes>"
      ]
     },
     "metadata": {},
     "output_type": "display_data"
    }
   ],
   "source": [
    "pd.Series(episode_rewards).rolling(10).mean().plot(xlabel='Еpisode', ylabel='Reward', title='Mean reward for last 20 episodes')"
   ]
  },
  {
   "cell_type": "code",
   "execution_count": 23,
   "id": "3db6b225-d101-4f34-895a-7df8e2fcfeb6",
   "metadata": {},
   "outputs": [
    {
     "name": "stdout",
     "output_type": "stream",
     "text": [
      "Loading checkpoint:  -14.814770863099548_academy_run_to_score_exp1_checkpoint_133.h5\n"
     ]
    }
   ],
   "source": [
    "model_loaded = load_best_agent()"
   ]
  },
  {
   "cell_type": "code",
   "execution_count": 25,
   "id": "899a1249-ce2e-450f-b466-5fd575cda58d",
   "metadata": {},
   "outputs": [
    {
     "data": {
      "text/plain": [
       "Policy(\n",
       "  (affine1): Linear(in_features=115, out_features=128, bias=True)\n",
       "  (action_head): Linear(in_features=128, out_features=19, bias=True)\n",
       "  (value_head): Linear(in_features=128, out_features=1, bias=True)\n",
       ")"
      ]
     },
     "execution_count": 25,
     "metadata": {},
     "output_type": "execute_result"
    }
   ],
   "source": [
    "model_loaded.eval()"
   ]
  },
  {
   "cell_type": "code",
   "execution_count": 37,
   "id": "42c2764d-a29f-424e-b988-82c6b657a5ab",
   "metadata": {},
   "outputs": [
    {
     "name": "stdout",
     "output_type": "stream",
     "text": [
      "Loading checkpoint:  -22.565664816880076_academy_run_to_score_exp1_checkpoint_1070.h5\n"
     ]
    }
   ],
   "source": [
    "# Load manually(\n",
    "model_loaded = load_agent('-22.565664816880076_academy_run_to_score_exp1_checkpoint_1070.h5')"
   ]
  },
  {
   "cell_type": "code",
   "execution_count": null,
   "id": "b33eea0a-5385-4f43-8d0c-9fbeb39b3b5d",
   "metadata": {},
   "outputs": [],
   "source": [
    "torch.save(model, 'run_to_score.h5')"
   ]
  },
  {
   "cell_type": "code",
   "execution_count": 38,
   "id": "44691286-017d-454e-b195-18fee023f548",
   "metadata": {},
   "outputs": [
    {
     "name": "stdout",
     "output_type": "stream",
     "text": [
      "Episode: 0\tLast reward: -29.50 \t Last 5 episodes average reward: -29.504932955639624\n"
     ]
    },
    {
     "data": {
      "text/plain": [
       "(Policy(\n",
       "   (affine1): Linear(in_features=115, out_features=128, bias=True)\n",
       "   (action_head): Linear(in_features=128, out_features=19, bias=True)\n",
       "   (value_head): Linear(in_features=128, out_features=1, bias=True)\n",
       " ),\n",
       " [-29.504932955639624,\n",
       "  -30.597353217426562,\n",
       "  -26.318376744403363,\n",
       "  -21.38892440952082,\n",
       "  -29.370584560445526,\n",
       "  -23.467094339127886,\n",
       "  -21.61728901787089,\n",
       "  -24.510731161340207,\n",
       "  -26.43991830459188,\n",
       "  -26.939389802293768,\n",
       "  -24.405361641455247,\n",
       "  -21.427892290099148,\n",
       "  -27.63504933802396])"
      ]
     },
     "execution_count": 38,
     "metadata": {},
     "output_type": "execute_result"
    }
   ],
   "source": [
    "run_agent(model=model_loaded, \n",
    "          train=False, \n",
    "          render=False, \n",
    "          record=False,\n",
    "          seed=42, \n",
    "          num_episodes=13,\n",
    "          task='academy_run_to_score', \n",
    "          wrapper_init=DistanceFromOpponentGoalRewardFixed)"
   ]
  },
  {
   "cell_type": "code",
   "execution_count": 148,
   "id": "a36d150e-6683-4294-a00f-dbe0a6e2edf7",
   "metadata": {},
   "outputs": [],
   "source": [
    "# https://github.com/google-research/football/blob/master/gfootball/doc/observation.md#raw-observations"
   ]
  },
  {
   "cell_type": "code",
   "execution_count": null,
   "id": "f39e32f8-f88e-4d97-922c-44359b8805fd",
   "metadata": {},
   "outputs": [],
   "source": [
    "# academy_empty_goal_close\n",
    "# academy_empty_goal\n",
    "# academy_run_to_score\n",
    "# academy_run_to_score_with_keeper"
   ]
  }
 ],
 "metadata": {
  "kernelspec": {
   "display_name": "Python 3 (ipykernel)",
   "language": "python",
   "name": "python3"
  },
  "language_info": {
   "codemirror_mode": {
    "name": "ipython",
    "version": 3
   },
   "file_extension": ".py",
   "mimetype": "text/x-python",
   "name": "python",
   "nbconvert_exporter": "python",
   "pygments_lexer": "ipython3",
   "version": "3.10.6"
  }
 },
 "nbformat": 4,
 "nbformat_minor": 5
}
